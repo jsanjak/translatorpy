{
 "cells": [
  {
   "cell_type": "markdown",
   "id": "binary-jersey",
   "metadata": {},
   "source": [
    "# Example for querying compounds connected to a known set of genes from NCATS Translator"
   ]
  },
  {
   "cell_type": "markdown",
   "id": "steady-inclusion",
   "metadata": {},
   "source": [
    "The following functions are used send queries to Translator and display the results"
   ]
  },
  {
   "cell_type": "code",
   "execution_count": 32,
   "id": "neural-greece",
   "metadata": {},
   "outputs": [],
   "source": [
    "\n",
    "import json\n",
    "import csv\n",
    "import glob\n",
    "\n",
    "from kgx.transformer import Transformer\n",
    "from kgx.validator import Validator\n",
    "from bmt import Toolkit\n",
    "\n",
    "from translatorpy.trapigraph import TrapiGraph\n",
    "from translatorpy.translatorquery import TranslatorQuery\n",
    "from translatorpy import utilities as translator_util\n"
   ]
  },
  {
   "cell_type": "markdown",
   "id": "3deaadbe",
   "metadata": {},
   "source": [
    "## Utility functions"
   ]
  },
  {
   "cell_type": "code",
   "execution_count": 20,
   "id": "7ccf7775",
   "metadata": {},
   "outputs": [],
   "source": [
    "\n",
    "def node2kgx(nid,node,biolink_classes):\n",
    "    \"\"\"\n",
    "    Convert translator node to KGX format\n",
    "    \"\"\"\n",
    "    kgx_node = {\n",
    "        'id':nid,\n",
    "        'name':node.get('name'),\n",
    "        'attributes':node.get('attributes')\n",
    "    }\n",
    "    \n",
    "    node_cats = node.get('categories')\n",
    "    \n",
    "    named_things = [i for i in node_cats if i in biolink_classes]\n",
    "    \n",
    "    if len(named_things) > 0:\n",
    "        kgx_node['category'] = named_things\n",
    "    else:\n",
    "        kgx_node['category'] = ['biolink:NamedThing']\n",
    "    \n",
    "    return kgx_node\n",
    "    \n",
    "def edge2kgx(eid,edge):\n",
    "    \"\"\"\n",
    "    Convert translator edge to KGX format\n",
    "    \"\"\"\n",
    "    kgx_edge = {\n",
    "        'id':eid,\n",
    "        'subject': edge.get('subject'),\n",
    "        'predicate': edge.get('predicate'),\n",
    "        'object': edge.get('object')\n",
    "    }\n",
    "    \n",
    "    attr = edge.get('attributes')\n",
    "\n",
    "    rel_attr = [i['value'] for i in attr if i['attribute_type_id']=='biolink:relation']\n",
    "    if len(rel_attr)>0:\n",
    "        kgx_edge['relation'] = rel_attr[0]\n",
    "    else:\n",
    "        kgx_edge['relation'] = None\n",
    "    \n",
    "    kgx_edge['attributes'] = attr\n",
    "\n",
    "    return kgx_edge\n",
    "\n",
    "\n",
    "def trapi2kgx(kg,biolink_classes):\n",
    "    \"\"\"\n",
    "    Convert translator result to KGX format\n",
    "    \"\"\"\n",
    "    kgx = {}\n",
    "    kgx['nodes'] = [node2kgx(nid,node,biolink_classes) for nid,node in kg['nodes'].items()]\n",
    "    kgx['edges'] = [edge2kgx(eid,edge) for eid,edge in kg['edges'].items()]\n",
    "    \n",
    "    return kgx\n",
    "\n",
    "def write_results(query,prefix,target,biolink_classes):\n",
    "    json_files = []\n",
    "    for result in query.results:\n",
    "        message =  query.results[result]['message'].get('results')\n",
    "\n",
    "        if message is not None:\n",
    "            kg = translator_util.getpath(query.results[result],[\"message\",\"knowledge_graph\"])\n",
    "\n",
    "            kgx = trapi2kgx(kg,biolink_classes)\n",
    "            \n",
    "            json_fname = \"data/kgx_files/{0}_{1}_{2}.json\".format(target,prefix,result)\n",
    "            json_files.append(json_fname)\n",
    "            with open(json_fname,encoding='utf-8',mode='w') as kgx_file:\n",
    "                json.dump(kgx,kgx_file,ensure_ascii=False, indent=2)\n",
    "    \n",
    "    return json_files\n",
    "\n",
    "\n",
    "\n",
    "def myquery(gene_symbol,genename2ncbicurie,biolink_classes):\n",
    "    try:\n",
    "        gene = genename2ncbicurie[gene_symbol]\n",
    "        direct_edge_list = [[(0,gene),(1,'biolink:ChemicalEntity'),'biolink:related_to']]\n",
    "        \n",
    "        node_categories = {gene:['biolink:Gene']}\n",
    "        \n",
    "        candidate_direct_trapi = TrapiGraph(direct_edge_list,format='SOP',node_data=node_categories)\n",
    "        \n",
    "        query = TranslatorQuery()\n",
    "        query.query(candidate_direct_trapi,delay=30)\n",
    "        json_files = write_results(query,'direct',gene_symbol,biolink_classes)\n",
    "\n",
    "        if len(json_files) > 0:\n",
    "            input_args = {'filename': json_files, 'format': 'json'}\n",
    "            output_args = {'filename': \"data/kgx_files/{0}\".format(gene_symbol), 'format': 'tsv'}\n",
    "            t = Transformer()\n",
    "            t.transform(input_args=input_args, output_args=output_args)\n",
    "\n",
    "        return 0\n",
    "    except Exception as e:\n",
    "        print(e)\n",
    "        return 1"
   ]
  },
  {
   "cell_type": "markdown",
   "id": "d767758f",
   "metadata": {},
   "source": [
    "## Running queries"
   ]
  },
  {
   "cell_type": "code",
   "execution_count": 7,
   "id": "502a9f2c",
   "metadata": {},
   "outputs": [],
   "source": [
    "#Resolve names\n",
    "gene_list = ['EGFR','ERBB2']\n",
    "translator_gene_names = translator_util.translate_node_name(gene_list,'NCBIGene')\n",
    "genename2ncbicurie = {i[0]:i[1] for i in translator_gene_names}"
   ]
  },
  {
   "cell_type": "code",
   "execution_count": 6,
   "id": "114a253e",
   "metadata": {},
   "outputs": [
    {
     "data": {
      "text/plain": [
       "{'EGFR': 'NCBIGene:1956', 'ERBB2': 'NCBIGene:2064'}"
      ]
     },
     "execution_count": 6,
     "metadata": {},
     "output_type": "execute_result"
    }
   ],
   "source": [
    "genename2ncbicurie"
   ]
  },
  {
   "cell_type": "code",
   "execution_count": 14,
   "id": "bda0b1ca",
   "metadata": {},
   "outputs": [
    {
     "data": {
      "text/plain": [
       "{'message': {'query_graph': {'edges': {'e00': {'subject': 'n00',\n",
       "     'object': 'n01',\n",
       "     'predicates': ['biolink:related_to']}},\n",
       "   'nodes': {'n00': {'ids': ['NCBIGene:1956'], 'categories': ['biolink:Gene']},\n",
       "    'n01': {'categories': ['biolink:ChemicalEntity']}}}}}"
      ]
     },
     "execution_count": 14,
     "metadata": {},
     "output_type": "execute_result"
    }
   ],
   "source": [
    "#An example to show the TRAPI query graph\n",
    "gene = genename2ncbicurie['EGFR']\n",
    "direct_edge_list = [[(0,gene),(1,'biolink:ChemicalEntity'),'biolink:related_to']]\n",
    "\n",
    "node_categories = {gene:['biolink:Gene']}\n",
    "\n",
    "candidate_direct_trapi = TrapiGraph(direct_edge_list,format='SOP',node_data=node_categories)\n",
    "candidate_direct_trapi.query"
   ]
  },
  {
   "cell_type": "code",
   "execution_count": null,
   "id": "76c4e602",
   "metadata": {},
   "outputs": [],
   "source": [
    "#Biolink model toolkit is used to enforce the data model\n",
    "tk = Toolkit()\n",
    "biolink_classes = [\"biolink:\" + i.title().replace(\" \",\"\") for i in tk.get_descendants('named thing')]"
   ]
  },
  {
   "cell_type": "code",
   "execution_count": 24,
   "id": "c3a6c5ac",
   "metadata": {},
   "outputs": [
    {
     "name": "stdout",
     "output_type": "stream",
     "text": [
      "b29b5097-2aab-4e7a-8423-fc4ab5c5fffa\n",
      "Still Running\n",
      "Still Running\n",
      "Still Running\n",
      "Still Running\n",
      "Still Running\n",
      "Still Running\n",
      "Still Running\n",
      "Still Running\n",
      "Still Running\n",
      "Done\n",
      "Done\n",
      "ARS Error ara-aragorn 0\n",
      "Done\n",
      "Done ara-arax 500\n",
      "Done\n",
      "Done ara-bte 2873\n",
      "Error\n",
      "Error ara-unsecret 0\n",
      "Done\n",
      "Done kp-genetics 0\n",
      "Done\n",
      "Done kp-molecular 1913\n",
      "Done\n",
      "Done ara-explanatory 2902\n",
      "Done\n",
      "Done ara-improving 1000\n",
      "Done\n",
      "Done kp-cam 77\n",
      "Done\n",
      "Done kp-textmining 778\n",
      "Done\n",
      "Done kp-openpredict 0\n",
      "Done\n",
      "Done kp-icees 0\n",
      "Done\n",
      "Done kp-chp 20\n",
      "Done\n",
      "ARS Error kp-cohd 0\n",
      "Done\n",
      "Done kp-icees-dili 0\n",
      "Replacement index 1 out of range for positional args tuple\n",
      "d551f608-3e24-4ab3-939b-4e2ac7615336\n",
      "Still Running\n",
      "Still Running\n",
      "Still Running\n",
      "Still Running\n",
      "Still Running\n",
      "Still Running\n",
      "Still Running\n",
      "Still Running\n",
      "Still Running\n",
      "Done\n",
      "Done\n",
      "ARS Error ara-aragorn 0\n",
      "Done\n",
      "ARS Error ara-bte 0\n",
      "Done\n",
      "Done ara-arax 500\n",
      "Error\n",
      "Error ara-unsecret 0\n",
      "Done\n",
      "Done kp-genetics 0\n",
      "Done\n",
      "Done kp-molecular 555\n",
      "Done\n",
      "Done ara-explanatory 1947\n",
      "Done\n",
      "Done ara-improving 1000\n",
      "Done\n",
      "Done kp-cam 0\n",
      "Done\n",
      "Done kp-textmining 550\n",
      "Done\n",
      "Done kp-openpredict 0\n",
      "Done\n",
      "Done kp-icees 0\n",
      "Done\n",
      "Done kp-chp 20\n",
      "Done\n",
      "ARS Error kp-cohd 0\n",
      "Done\n",
      "Done kp-icees-dili 0\n",
      "Replacement index 1 out of range for positional args tuple\n"
     ]
    }
   ],
   "source": [
    "#Can be parallized with joblib:\n",
    "#\n",
    "#query_succcess = Parallel(n_jobs=-1)(delayed(myquery)(gene,genename2ncbicurie,biolink_classes) for gene in gene_list)\n",
    "for gene in gene_list:\n",
    "    r = myquery(gene,genename2ncbicurie,biolink_classes)\n",
    "    if r == 0:\n",
    "        print(\"{0} successfully queried\".format(gene))\n",
    "    "
   ]
  },
  {
   "cell_type": "markdown",
   "id": "b9412ce3",
   "metadata": {},
   "source": [
    "## Post-processing\n",
    "\n",
    "Compose to one file for nodes and one file for edges. Node/edges attributes can be added as columns to these files. The script kgx-neo4j.sh shows how to upload these results to a local neo4j database for analysis and vizualization. \n",
    "\n"
   ]
  },
  {
   "cell_type": "code",
   "execution_count": 34,
   "id": "442417ff",
   "metadata": {},
   "outputs": [],
   "source": [
    "csv.field_size_limit(sys.maxsize)\n",
    "\n",
    "def clean_up_files(ofname,single_files,fields):\n",
    "\n",
    "    with open(ofname,'w') as clean_file:\n",
    "        clean_writer = csv.DictWriter(clean_file,fieldnames=fields,delimiter='\\t')\n",
    "        clean_writer.writeheader()\n",
    "        \n",
    "        for ifname in single_files:\n",
    "            with open(ifname,'r') as single_file:\n",
    "                single_reader = csv.DictReader(single_file,delimiter='\\t')\n",
    "                for row in single_reader:\n",
    "                    clean_writer.writerow({i:row[i] for i in fields} )\n",
    "\n",
    "core_node_fields=[\"id\",\"category\",\"name\",\"provided_by\",\"knowledge_source\"]\n",
    "core_edge_fields=[\"id\",\"subject\",\"predicate\",\"object\",\"knowledge_source\",'attributes']\n",
    "\n",
    "single_node_files = glob.glob(\"data/kgx_files/*_nodes.tsv\")\n",
    "single_edges_files = glob.glob(\"data/kgx_files/*_edges.tsv\")\n",
    "\n",
    "node_fname = \"data/gene_compound_nodes.tsv\"\n",
    "edge_fname = \"data/gene_compound_edges.tsv\"\n",
    "\n",
    "clean_up_files(node_fname,single_node_files,core_node_fields)\n",
    "clean_up_files(edge_fname,single_edges_files,core_edge_fields)"
   ]
  },
  {
   "cell_type": "code",
   "execution_count": null,
   "id": "faae67a7",
   "metadata": {},
   "outputs": [],
   "source": []
  }
 ],
 "metadata": {
  "interpreter": {
   "hash": "2bc458659622e568e8c0dda7df284ec2c1aecc624be18b6e139abd5ed69fa040"
  },
  "kernelspec": {
   "display_name": "Python 3.8.8 ('translator-query')",
   "language": "python",
   "name": "python3"
  },
  "language_info": {
   "codemirror_mode": {
    "name": "ipython",
    "version": 3
   },
   "file_extension": ".py",
   "mimetype": "text/x-python",
   "name": "python",
   "nbconvert_exporter": "python",
   "pygments_lexer": "ipython3",
   "version": "3.8.8"
  }
 },
 "nbformat": 4,
 "nbformat_minor": 5
}
